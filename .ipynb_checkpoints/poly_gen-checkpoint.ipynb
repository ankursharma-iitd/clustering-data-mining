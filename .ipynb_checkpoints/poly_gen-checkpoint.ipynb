{
 "cells": [
  {
   "cell_type": "code",
   "execution_count": 1,
   "metadata": {},
   "outputs": [],
   "source": [
    "import numpy as np\n",
    "from sklearn import datasets\n",
    "import matplotlib.pyplot as plt\n",
    "import random\n",
    "from shapely.geometry.polygon import Polygon\n",
    "from shapely.geometry.point import Point"
   ]
  },
  {
   "cell_type": "code",
   "execution_count": 2,
   "metadata": {
    "collapsed": true
   },
   "outputs": [],
   "source": [
    "# concentric circles\n",
    "X,y = datasets.make_circles(n_samples=40000, shuffle=True, noise=0.04, random_state=50, factor=0.5)\n",
    "X = X*30"
   ]
  },
  {
   "cell_type": "code",
   "execution_count": 3,
   "metadata": {},
   "outputs": [
    {
     "data": {
      "image/png": "[encoded data removed]",
      "text/plain": [
       "<matplotlib.figure.Figure at 0x1071e9160>"
      ]
     },
     "metadata": {},
     "output_type": "display_data"
    }
   ],
   "source": [
    "plt.scatter(X[:,0], X[:,1], c = 'blue')\n",
    "plt.show()"
   ]
  },
  {
   "cell_type": "code",
   "execution_count": 4,
   "metadata": {
    "collapsed": true
   },
   "outputs": [],
   "source": [
    "def get_random_point_in_polygon(poly, np):\n",
    "    random.seed(12)\n",
    "    (minx, miny, maxx, maxy) = poly.bounds\n",
    "    num_points = 0\n",
    "    all_points = []\n",
    "    while True:   \n",
    "        p = Point(random.uniform(minx, maxx), random.uniform(miny, maxy))\n",
    "        if poly.contains(p) and (p.coords not in all_points):\n",
    "            num_points += 1\n",
    "            all_points.append(p.coords)\n",
    "        if num_points == np:\n",
    "            break\n",
    "    return all_points"
   ]
  },
  {
   "cell_type": "code",
   "execution_count": 5,
   "metadata": {},
   "outputs": [],
   "source": [
    "p1 = Polygon([(40, 40), (70, 70), (100, 40), (70, 10)])\n",
    "p2 = Polygon([(100, 40), (130, 70), (160, 40), (130, 10)])"
   ]
  },
  {
   "cell_type": "code",
   "execution_count": 6,
   "metadata": {},
   "outputs": [],
   "source": [
    "point_in_poly1 = get_random_point_in_polygon(p1,40000)\n",
    "point_in_poly2 = get_random_point_in_polygon(p2,20000)"
   ]
  },
  {
   "cell_type": "code",
   "execution_count": 7,
   "metadata": {},
   "outputs": [],
   "source": [
    "all_points1 = []\n",
    "for point in point_in_poly1:\n",
    "    all_points1.append(np.array([point[0][0],point[0][1]]))\n",
    "all_points1 = np.array(all_points1)\n",
    "\n",
    "\n",
    "all_points2 = []\n",
    "for point in point_in_poly2:\n",
    "    all_points2.append(np.array([point[0][0],point[0][1]]))\n",
    "all_points2 = np.array(all_points2)"
   ]
  },
  {
   "cell_type": "code",
   "execution_count": 8,
   "metadata": {},
   "outputs": [
    {
     "data": {
      "text/plain": [
       "<matplotlib.collections.PathCollection at 0x1a11af2b38>"
      ]
     },
     "execution_count": 8,
     "metadata": {},
     "output_type": "execute_result"
    }
   ],
   "source": [
    "plt.scatter(X[:,0], X[:,1], c = 'blue')\n",
    "plt.scatter(all_points1[:,0], all_points1[:,1], c = 'blue')\n",
    "plt.scatter(all_points2[:,0], all_points2[:,1], c = 'blue')"
   ]
  },
  {
   "cell_type": "code",
   "execution_count": 9,
   "metadata": {},
   "outputs": [
    {
     "data": {
      "image/png": "[encoded data removed]",
      "text/plain": [
       "<matplotlib.figure.Figure at 0x109273b70>"
      ]
     },
     "metadata": {},
     "output_type": "display_data"
    }
   ],
   "source": [
    "plt.show()"
   ]
  },
  {
   "cell_type": "code",
   "execution_count": null,
   "metadata": {
    "collapsed": true
   },
   "outputs": [],
   "source": []
  }
 ],
 "metadata": {
  "kernelspec": {
   "display_name": "Python 3",
   "language": "python",
   "name": "python3"
  },
  "language_info": {
   "codemirror_mode": {
    "name": "ipython",
    "version": 3
   },
   "file_extension": ".py",
   "mimetype": "text/x-python",
   "name": "python",
   "nbconvert_exporter": "python",
   "pygments_lexer": "ipython3",
   "version": "3.6.3"
  }
 },
 "nbformat": 4,
 "nbformat_minor": 2
}
