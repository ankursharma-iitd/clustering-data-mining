{
 "cells": [
  {
   "cell_type": "code",
   "execution_count": 1,
   "metadata": {
    "collapsed": true
   },
   "outputs": [],
   "source": [
    "import numpy as np\n",
    "from sklearn import datasets\n",
    "import matplotlib.pyplot as plt"
   ]
  },
  {
   "cell_type": "code",
   "execution_count": 2,
   "metadata": {
    "collapsed": true
   },
   "outputs": [],
   "source": [
    "# difference in k-means and dbscan\n",
    "X,y = datasets.make_circles(n_samples=30000, shuffle=True, noise=0.047, random_state=None, factor=0.5)\n",
    "# plt.scatter(X[:,0], X[:,1], c = 'blue')\n",
    "# plt.show()\n",
    "# plt.close()"
   ]
  },
  {
   "cell_type": "code",
   "execution_count": 7,
   "metadata": {},
   "outputs": [
    {
     "data": {
      "image/png": "[encoded data removed]",
      "text/plain": [
       "<matplotlib.figure.Figure at 0x1117e16d8>"
      ]
     },
     "metadata": {},
     "output_type": "display_data"
    }
   ],
   "source": [
    "# difference in dbscan and optics\n",
    "# X1,y1 = datasets.make_blobs(n_samples=70000, n_features=2, centers=[(30,30)], cluster_std=[3.0, shuffle=True, random_state=None)\n",
    "# X2,y2 = datasets.make_blobs(n_samples=30000, n_features=2, centers=[(65,67)], cluster_std=7.0, shuffle=True, random_state=None)\n",
    "\n",
    "# X1,y1 = datasets.make_blobs(n_samples=70000, centers=[(40,40), (70,70)], cluster_std=[3.0,7.0], random_state=None)\n",
    "X1,y1 = datasets.make_blobs(n_samples=70000, centers=[(50,50), (90,50)], cluster_std=[5.0,6.0], random_state=None)\n",
    "plt.scatter(X1[:,0], X1[:,1], c = 'blue')\n",
    "# plt.scatter(X2[:,0], X2[:,1], c = 'blue')\n",
    "plt.scatter(30*X[:,0], 30*X[:,1], c = 'blue')\n",
    "plt.show()\n",
    "plt.close()"
   ]
  },
  {
   "cell_type": "code",
   "execution_count": 5,
   "metadata": {
    "collapsed": true
   },
   "outputs": [],
   "source": [
    "count_0 = 0\n",
    "count_1 = 0\n",
    "for x in y1:\n",
    "    if x == 0:\n",
    "        count_0 += 1\n",
    "    else:\n",
    "        count_1 += 1"
   ]
  },
  {
   "cell_type": "code",
   "execution_count": 6,
   "metadata": {},
   "outputs": [
    {
     "name": "stdout",
     "output_type": "stream",
     "text": [
      "35000\n",
      "35000\n"
     ]
    }
   ],
   "source": [
    "print(count_0)\n",
    "print(count_1)"
   ]
  },
  {
   "cell_type": "code",
   "execution_count": null,
   "metadata": {
    "collapsed": true
   },
   "outputs": [],
   "source": []
  }
 ],
 "metadata": {
  "kernelspec": {
   "display_name": "Python 3",
   "language": "python",
   "name": "python3"
  },
  "language_info": {
   "codemirror_mode": {
    "name": "ipython",
    "version": 3
   },
   "file_extension": ".py",
   "mimetype": "text/x-python",
   "name": "python",
   "nbconvert_exporter": "python",
   "pygments_lexer": "ipython3",
   "version": "3.6.3"
  }
 },
 "nbformat": 4,
 "nbformat_minor": 2
}
